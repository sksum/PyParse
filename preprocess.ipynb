{
 "cells": [
  {
   "cell_type": "code",
   "execution_count": 1,
   "metadata": {},
   "outputs": [],
   "source": [
    "from nltk.stem import WordNetLemmatizer, SnowballStemmer\n",
    "from nltk.stem.porter import *\n",
    "import numpy as np\n",
    "np.random.seed(400)"
   ]
  },
  {
   "cell_type": "code",
   "execution_count": 2,
   "metadata": {},
   "outputs": [],
   "source": [
    "import gensim\n",
    "from gensim.utils import simple_preprocess\n",
    "from gensim.parsing.preprocessing import STOPWORDS"
   ]
  },
  {
   "cell_type": "code",
   "execution_count": 4,
   "metadata": {},
   "outputs": [
    {
     "name": "stderr",
     "output_type": "stream",
     "text": [
      "[nltk_data] Downloading package wordnet to C:\\Users\\SAKSHAM\n",
      "[nltk_data]     MRIG\\AppData\\Roaming\\nltk_data...\n",
      "[nltk_data]   Package wordnet is already up-to-date!\n"
     ]
    },
    {
     "data": {
      "text/plain": [
       "True"
      ]
     },
     "execution_count": 4,
     "metadata": {},
     "output_type": "execute_result"
    }
   ],
   "source": [
    "import nltk\n",
    "nltk.download('wordnet')"
   ]
  },
  {
   "cell_type": "code",
   "execution_count": 5,
   "metadata": {},
   "outputs": [],
   "source": [
    "lemmatizer = WordNetLemmatizer() \n",
    "stemmer = SnowballStemmer(\"english\")"
   ]
  },
  {
   "cell_type": "code",
   "execution_count": 8,
   "metadata": {},
   "outputs": [],
   "source": [
    "def lematize(data):\n",
    "    return WordNetLemmatizer().lemmatize(data, pos='v')\n",
    "def stem(data):\n",
    "    return stemmer.stem(data)\n",
    "def preprocess(text):\n",
    "    result=[]\n",
    "    data = gensim.utils.simple_preprocess(text)\n",
    "    for el in data :\n",
    "        if el not in STOPWORDS and len(token) > 3:\n",
    "            result.append(stem(lematize(token)))\n",
    "            \n",
    "    return result\n"
   ]
  },
  {
   "cell_type": "code",
   "execution_count": 7,
   "metadata": {},
   "outputs": [
    {
     "name": "stdout",
     "output_type": "stream",
     "text": [
      "['Antananarivo', '/ˈruːvə/', '(Malagasy:', \"Rovän'i\", 'Manjakämiadānä', '[ˈruvən', 'manˌdzakəmiˈadə̥nə])', 'is', 'a', 'royal', 'palace', 'complex', '(rova)', 'in', 'Madagascar', 'that', 'served', 'as', 'the', 'home', 'of', 'the', 'sovereigns', 'of', 'the', 'Kingdom', 'of', 'Imerina', 'in', 'the', '17th', 'and', '18th', 'centuries,', 'as', 'well', 'as', 'of', 'the', 'rulers', 'of', 'the', 'Kingdom', 'of', 'Madagascar', 'in', 'the', '19th', 'century.', 'Its', 'counterpart', 'is', 'the', 'nearby', 'fortified', 'village', 'of', 'Ambohimanga,', 'which', 'served', 'as', 'the', 'spiritual', 'seat', 'of', 'the', 'kingdom', 'in', 'contrast', 'to', 'the', 'political', 'significance', 'of', 'the', 'Rova', 'in', 'the', 'capital.', 'Located', 'in', 'the', 'central', 'highland', 'city', 'of', 'Antananarivo,', 'the', 'Rova', 'occupies', 'the', 'highest', 'point', 'on', 'Analamanga,', 'formerly', 'the', 'highest', 'of', \"Antananarivo's\", 'many', 'hills.', 'Merina', 'king', 'Andrianjaka,', 'who', 'ruled', 'Imerina', 'from', 'around', '1610', 'until', '1630,', 'is', 'believed', 'to', 'have', 'captured', 'Analamanga', 'from', 'a', 'Vazimba', 'king', 'around', '1610', 'or', '1625', 'and', 'erected', 'the', \"site's\", 'first', 'fortified', 'royal', 'structure.', 'Successive', 'Merina', 'kings', 'continued', 'to', 'rule', 'from', 'the', 'site', 'until', 'the', 'fall', 'of', 'the', 'monarchy', 'in', '1896,', 'frequently', 'restoring,', 'modifying', 'or', 'adding', 'royal', 'structures', 'within', 'the', 'compound', 'to', 'suit', 'their', 'needs.']\n",
      "['antananarivo', 'ˈruːvə', 'malagasi', 'rovän', 'manjakämiadānä', 'ˈruvən', 'manˌdzakəmiˈadə', 'royal', 'palac', 'complex', 'rova', 'madagascar', 'serv', 'home', 'sovereign', 'kingdom', 'imerina', 'centuri', 'ruler', 'kingdom', 'madagascar', 'centuri', 'counterpart', 'nearbi', 'fortifi', 'villag', 'ambohimanga', 'serv', 'spiritu', 'seat', 'kingdom', 'contrast', 'polit', 'signific', 'rova', 'capit', 'locat', 'central', 'highland', 'citi', 'antananarivo', 'rova', 'occupi', 'highest', 'point', 'analamanga', 'highest', 'antananarivo', 'hill', 'merina', 'king', 'andrianjaka', 'rule', 'imerina', 'believ', 'captur', 'analamanga', 'vazimba', 'king', 'erect', 'site', 'fortifi', 'royal', 'structur', 'success', 'merina', 'king', 'continu', 'rule', 'site', 'fall', 'monarchi', 'frequent', 'restor', 'modifi', 'add', 'royal', 'structur', 'compound', 'suit', 'need']\n"
     ]
    }
   ],
   "source": [
    "test = \"Antananarivo /ˈruːvə/ (Malagasy: Rovän'i Manjakämiadānä [ˈruvən manˌdzakəmiˈadə̥nə]) is a royal palace complex (rova) in Madagascar that served as the home of the sovereigns of the Kingdom of Imerina in the 17th and 18th centuries, as well as of the rulers of the Kingdom of Madagascar in the 19th century. Its counterpart is the nearby fortified village of Ambohimanga, which served as the spiritual seat of the kingdom in contrast to the political significance of the Rova in the capital. Located in the central highland city of Antananarivo, the Rova occupies the highest point on Analamanga, formerly the highest of Antananarivo's many hills. Merina king Andrianjaka, who ruled Imerina from around 1610 until 1630, is believed to have captured Analamanga from a Vazimba king around 1610 or 1625 and erected the site's first fortified royal structure. Successive Merina kings continued to rule from the site until the fall of the monarchy in 1896, frequently restoring, modifying or adding royal structures within the compound to suit their needs.\"   \n",
    "testList = test.split()\n",
    "print(testList)\n",
    "print(preprocess(test))"
   ]
  },
  {
   "cell_type": "code",
   "execution_count": null,
   "metadata": {},
   "outputs": [],
   "source": [
    "def getBow (data) :\n",
    "    "
   ]
  }
 ],
 "metadata": {
  "kernelspec": {
   "display_name": "Python 3",
   "language": "python",
   "name": "python3"
  },
  "language_info": {
   "codemirror_mode": {
    "name": "ipython",
    "version": 3
   },
   "file_extension": ".py",
   "mimetype": "text/x-python",
   "name": "python",
   "nbconvert_exporter": "python",
   "pygments_lexer": "ipython3",
   "version": "3.7.4"
  }
 },
 "nbformat": 4,
 "nbformat_minor": 2
}
