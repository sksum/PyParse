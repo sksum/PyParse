{
 "cells": [
  {
   "cell_type": "code",
   "execution_count": 1,
   "metadata": {},
   "outputs": [],
   "source": [
    "from nltk.stem import WordNetLemmatizer, SnowballStemmer\n",
    "from nltk.stem.porter import *"
   ]
  },
  {
   "cell_type": "code",
   "execution_count": 2,
   "metadata": {},
   "outputs": [],
   "source": [
    "import gensim\n",
    "from gensim.utils import simple_preprocess\n",
    "from gensim.parsing.preprocessing import STOPWORDS"
   ]
  },
  {
   "cell_type": "code",
   "execution_count": 3,
   "metadata": {},
   "outputs": [
    {
     "name": "stderr",
     "output_type": "stream",
     "text": [
      "[nltk_data] Downloading package wordnet to C:\\Users\\SAKSHAM\n",
      "[nltk_data]     MRIG\\AppData\\Roaming\\nltk_data...\n",
      "[nltk_data]   Package wordnet is already up-to-date!\n"
     ]
    },
    {
     "data": {
      "text/plain": [
       "True"
      ]
     },
     "execution_count": 3,
     "metadata": {},
     "output_type": "execute_result"
    }
   ],
   "source": [
    "import nltk\n",
    "nltk.download('wordnet')"
   ]
  },
  {
   "cell_type": "code",
   "execution_count": 4,
   "metadata": {},
   "outputs": [],
   "source": [
    "lemmatizer = WordNetLemmatizer() \n",
    "stemmer = SnowballStemmer(\"english\")"
   ]
  },
  {
   "cell_type": "code",
   "execution_count": 5,
   "metadata": {},
   "outputs": [],
   "source": [
    "def lematize(data):\n",
    "    return WordNetLemmatizer().lemmatize(data, pos='v')\n",
    "def stem(data):\n",
    "    return stemmer.stem(data)"
   ]
  },
  {
   "cell_type": "code",
   "execution_count": 6,
   "metadata": {},
   "outputs": [
    {
     "name": "stdout",
     "output_type": "stream",
     "text": [
      "['Antananarivo', '/ˈruːvə/', '(Malagasy:', \"Rovän'i\", 'Manjakämiadānä', '[ˈruvən', 'manˌdzakəmiˈadə̥nə])', 'is', 'a', 'royal', 'palace', 'complex', '(rova)', 'in', 'Madagascar', 'that', 'served', 'as', 'the', 'home', 'of', 'the', 'sovereigns', 'of', 'the', 'Kingdom', 'of', 'Imerina', 'in', 'the', '17th', 'and', '18th', 'centuries,', 'as', 'well', 'as', 'of', 'the', 'rulers', 'of', 'the', 'Kingdom', 'of', 'Madagascar', 'in', 'the', '19th', 'century.', 'Its', 'counterpart', 'is', 'the', 'nearby', 'fortified', 'village', 'of', 'Ambohimanga,', 'which', 'served', 'as', 'the', 'spiritual', 'seat', 'of', 'the', 'kingdom', 'in', 'contrast', 'to', 'the', 'political', 'significance', 'of', 'the', 'Rova', 'in', 'the', 'capital.', 'Located', 'in', 'the', 'central', 'highland', 'city', 'of', 'Antananarivo,', 'the', 'Rova', 'occupies', 'the', 'highest', 'point', 'on', 'Analamanga,', 'formerly', 'the', 'highest', 'of', \"Antananarivo's\", 'many', 'hills.', 'Merina', 'king', 'Andrianjaka,', 'who', 'ruled', 'Imerina', 'from', 'around', '1610', 'until', '1630,', 'is', 'believed', 'to', 'have', 'captured', 'Analamanga', 'from', 'a', 'Vazimba', 'king', 'around', '1610', 'or', '1625', 'and', 'erected', 'the', \"site's\", 'first', 'fortified', 'royal', 'structure.', 'Successive', 'Merina', 'kings', 'continued', 'to', 'rule', 'from', 'the', 'site', 'until', 'the', 'fall', 'of', 'the', 'monarchy', 'in', '1896,', 'frequently', 'restoring,', 'modifying', 'or', 'adding', 'royal', 'structures', 'within', 'the', 'compound', 'to', 'suit', 'their', 'needs.']\n",
      "\n",
      "['antananarivo', 'ˈruːvə', 'malagasi', 'rovän', 'manjakämiadānä', 'ˈruvən', 'manˌdzakəmiˈadə', 'royal', 'palac', 'complex', 'rova', 'madagascar', 'serv', 'home', 'sovereign', 'kingdom', 'imerina', 'centuri', 'ruler', 'kingdom', 'madagascar', 'centuri', 'counterpart', 'nearbi', 'fortifi', 'villag', 'ambohimanga', 'serv', 'spiritu', 'seat', 'kingdom', 'contrast', 'polit', 'signific', 'rova', 'capit', 'locat', 'central', 'highland', 'citi', 'antananarivo', 'rova', 'occupi', 'highest', 'point', 'analamanga', 'highest', 'antananarivo', 'hill', 'merina', 'king', 'andrianjaka', 'rule', 'imerina', 'believ', 'captur', 'analamanga', 'vazimba', 'king', 'erect', 'site', 'fortifi', 'royal', 'structur', 'success', 'merina', 'king', 'continu', 'rule', 'site', 'fall', 'monarchi', 'frequent', 'restor', 'modifi', 'add', 'royal', 'structur', 'compound', 'suit', 'need']\n"
     ]
    }
   ],
   "source": [
    "def preprocess(text):\n",
    "    result=[]\n",
    "    data = simple_preprocess(text)\n",
    "    for el in data :\n",
    "        if el not in STOPWORDS and len(el) > 3:\n",
    "            result.append(stem(lematize(el)))\n",
    "            \n",
    "    return result\n",
    "\n",
    "test = \"Antananarivo /ˈruːvə/ (Malagasy: Rovän'i Manjakämiadānä [ˈruvən manˌdzakəmiˈadə̥nə]) is a royal palace complex (rova) in Madagascar that served as the home of the sovereigns of the Kingdom of Imerina in the 17th and 18th centuries, as well as of the rulers of the Kingdom of Madagascar in the 19th century. Its counterpart is the nearby fortified village of Ambohimanga, which served as the spiritual seat of the kingdom in contrast to the political significance of the Rova in the capital. Located in the central highland city of Antananarivo, the Rova occupies the highest point on Analamanga, formerly the highest of Antananarivo's many hills. Merina king Andrianjaka, who ruled Imerina from around 1610 until 1630, is believed to have captured Analamanga from a Vazimba king around 1610 or 1625 and erected the site's first fortified royal structure. Successive Merina kings continued to rule from the site until the fall of the monarchy in 1896, frequently restoring, modifying or adding royal structures within the compound to suit their needs.\"   \n",
    "testList = test.split()\n",
    "print(testList)\n",
    "print()\n",
    "print(preprocess(test))\n",
    "\n",
    "def processMultipleDocs (rawData):\n",
    "    docs = []\n",
    "    for doc in rawData:\n",
    "        docs.append(preprocess(doc))\n",
    "    print(docs[:2])\n",
    "    return docs"
   ]
  },
  {
   "cell_type": "code",
   "execution_count": 7,
   "metadata": {},
   "outputs": [],
   "source": [
    "%%capture\n",
    "from main import rawData\n",
    "docs = processMultipleDocs(rawData);\n",
    "print(len(docs))"
   ]
  },
  {
   "cell_type": "code",
   "execution_count": 9,
   "metadata": {},
   "outputs": [],
   "source": [
    "dictionary = gensim.corpora.Dictionary(docs)\n",
    "bow = [dictionary.doc2bow(doc) for doc in docs]"
   ]
  },
  {
   "cell_type": "code",
   "execution_count": 11,
   "metadata": {
    "scrolled": false
   },
   "outputs": [
    {
     "name": "stdout",
     "output_type": "stream",
     "text": [
      "creator-1\n",
      "googl-7\n",
      "work-1\n",
      "app-1\n",
      "ask-1\n",
      "august-5\n",
      "begin-1\n",
      "best-1\n",
      "blog-3\n",
      "build-1\n",
      "code-2\n",
      "communiti-1\n",
      "continu-10\n",
      "detail-1\n",
      "effort-1\n",
      "free-2\n",
      "good-1\n",
      "https-1\n",
      "languag-2\n",
      "learn-2\n",
      "licens-1\n",
      "life-1\n",
      "make-1\n",
      "music-24\n",
      "play-4\n",
      "post-13\n",
      "program-4\n",
      "project-1\n",
      "read-10\n",
      "recent-2\n",
      "softwar-3\n",
      "team-1\n",
      "thank-1\n",
      "theori-6\n",
      "travel-1\n",
      "tri-1\n",
      "use-1\n",
      "user-1\n",
      "wordpress-1\n",
      "write-2\n",
      "year-1\n",
      "block-12\n",
      "content-1\n",
      "creativ-2\n",
      "document-1\n",
      "educ-6\n",
      "explor-2\n",
      "figur-1\n",
      "know-1\n",
      "long-1\n",
      "note-1\n",
      "origin-1\n",
      "repres-2\n",
      "skip-1\n",
      "thing-1\n",
      "tool-1\n",
      "avail-3\n",
      "categori-1\n",
      "cod-2\n",
      "deploy-1\n",
      "download-1\n",
      "idea-1\n",
      "newslett-1\n",
      "progress-9\n",
      "scale-7\n",
      "search-2\n",
      "seri-1\n",
      "regard-1\n",
      "aviralgangwar-3\n",
      "bender-1\n",
      "bond-1\n",
      "centerpiec-1\n",
      "collect-1\n",
      "composit-1\n",
      "conserv-1\n",
      "construction-2\n",
      "curriculum-1\n",
      "degre-7\n",
      "devin-10\n",
      "donovan-1\n",
      "encourag-1\n",
      "express-1\n",
      "favour-1\n",
      "foreword-1\n",
      "freedom-1\n",
      "gakken-2\n",
      "gsoc-7\n",
      "hermann-1\n",
      "info-2\n",
      "japan-2\n",
      "juli-8\n",
      "june-3\n",
      "kelvin-1\n",
      "kid-3\n",
      "kindergarten-1\n",
      "lab-2\n",
      "math-2\n",
      "media-1\n",
      "meet-1\n",
      "member-3\n",
      "mentor-1\n",
      "mexico-1\n",
      "modal-5\n",
      "musicblock-1\n",
      "navig-1\n",
      "novemb-1\n",
      "offici-1\n",
      "partnership-1\n",
      "period-2\n",
      "phase-2\n",
      "pitch-5\n",
      "plan-2\n",
      "purpos-2\n",
      "refin-1\n",
      "richard-1\n",
      "septemb-2\n",
      "sequenc-1\n",
      "steam-1\n",
      "store-1\n",
      "student-1\n",
      "sugar-2\n",
      "sugarlab-1\n",
      "summer-5\n",
      "summit-1\n",
      "tackl-1\n",
      "theme-1\n",
      "themeze-1\n",
      "tokyo-1\n",
      "tuner-2\n",
      "ulibarri-2\n",
      "uncategor-8\n",
      "univers-1\n",
      "visual-2\n",
      "walter-1\n",
      "week-3\n",
      "widget-3\n",
      "workshop-2\n",
      "ビジュアルプログラミング-2\n",
      "ブロックス-2\n",
      "プログラミング-2\n",
      "ミュージック-2\n",
      "ワークショップ-2\n",
      "学習ソフト-2\n",
      "株式会社学研プラス-2\n",
      "横浜市立学校総-1\n",
      "音楽とコード-1\n",
      "音楽と数学-1\n"
     ]
    }
   ],
   "source": [
    "#test\n",
    "Bowdoc= bow[5]\n",
    "for i in range(len(Bowdoc)):\n",
    "    print(\"{}-{}\".format(dictionary[Bowdoc[i][0]],Bowdoc[i][1]))\n"
   ]
  }
 ],
 "metadata": {
  "kernelspec": {
   "display_name": "Python 3",
   "language": "python",
   "name": "python3"
  },
  "language_info": {
   "codemirror_mode": {
    "name": "ipython",
    "version": 3
   },
   "file_extension": ".py",
   "mimetype": "text/x-python",
   "name": "python",
   "nbconvert_exporter": "python",
   "pygments_lexer": "ipython3",
   "version": "3.7.4"
  }
 },
 "nbformat": 4,
 "nbformat_minor": 2
}
